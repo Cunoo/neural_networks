{
 "cells": [
  {
   "cell_type": "code",
   "execution_count": 1,
   "metadata": {},
   "outputs": [],
   "source": [
    "# build your own CNN from scratch and try to achieve the highest possible accurafy on MNIST\n",
    "import numpy as np\n",
    "import tensorflow as tf\n",
    "keras = tf.keras\n",
    "import pandas as pd\n",
    "import matplotlib.pyplot as plt"
   ]
  },
  {
   "cell_type": "code",
   "execution_count": 2,
   "metadata": {},
   "outputs": [],
   "source": [
    "mnist = tf.keras.datasets.mnist"
   ]
  },
  {
   "cell_type": "code",
   "execution_count": 3,
   "metadata": {},
   "outputs": [],
   "source": [
    "mnist = tf.keras.datasets.mnist.load_data()\n",
    "(X_train_full, y_train_full), (X_test, y_test) = mnist\n",
    "X_train_full = X_train_full / 255.\n",
    "X_test = X_test / 255.\n",
    "X_train, X_valid = X_train_full[:-5000], X_train_full[-5000:]\n",
    "y_train, y_valid = y_train_full[:-5000], y_train_full[-5000:]\n",
    "\n",
    "X_train = X_train[..., np.newaxis]\n",
    "X_valid = X_valid[..., np.newaxis]\n",
    "X_test = X_test[..., np.newaxis]"
   ]
  },
  {
   "cell_type": "code",
   "execution_count": 13,
   "metadata": {},
   "outputs": [
    {
     "name": "stdout",
     "output_type": "stream",
     "text": [
      "Epoch 1/15\n",
      "1719/1719 [==============================] - 58s 33ms/step - loss: 0.1624 - accuracy: 0.9563 - val_loss: 0.0731 - val_accuracy: 0.9798\n",
      "Epoch 2/15\n",
      "1719/1719 [==============================] - 58s 33ms/step - loss: 0.0592 - accuracy: 0.9829 - val_loss: 0.0749 - val_accuracy: 0.9828\n",
      "Epoch 3/15\n",
      "1719/1719 [==============================] - 58s 34ms/step - loss: 0.0581 - accuracy: 0.9839 - val_loss: 0.0768 - val_accuracy: 0.9844\n",
      "Epoch 4/15\n",
      "1719/1719 [==============================] - 57s 33ms/step - loss: 0.0354 - accuracy: 0.9901 - val_loss: 0.0877 - val_accuracy: 0.9822\n",
      "Epoch 5/15\n",
      "1719/1719 [==============================] - 57s 33ms/step - loss: 0.0364 - accuracy: 0.9903 - val_loss: 0.1023 - val_accuracy: 0.9860\n",
      "Epoch 6/15\n",
      "1719/1719 [==============================] - 56s 33ms/step - loss: 0.0352 - accuracy: 0.9913 - val_loss: 0.1293 - val_accuracy: 0.9836\n",
      "Epoch 7/15\n",
      "1719/1719 [==============================] - 56s 33ms/step - loss: 0.0363 - accuracy: 0.9921 - val_loss: 0.1195 - val_accuracy: 0.9854\n",
      "Epoch 8/15\n",
      "1719/1719 [==============================] - 57s 33ms/step - loss: 0.0261 - accuracy: 0.9941 - val_loss: 0.1304 - val_accuracy: 0.9862\n",
      "Epoch 9/15\n",
      "1719/1719 [==============================] - 57s 33ms/step - loss: 0.0347 - accuracy: 0.9933 - val_loss: 0.1431 - val_accuracy: 0.9850\n",
      "Epoch 10/15\n",
      "1719/1719 [==============================] - 55s 32ms/step - loss: 0.0275 - accuracy: 0.9950 - val_loss: 0.1503 - val_accuracy: 0.9864\n",
      "Epoch 11/15\n",
      "1719/1719 [==============================] - 55s 32ms/step - loss: 0.0307 - accuracy: 0.9948 - val_loss: 0.1394 - val_accuracy: 0.9868\n",
      "Epoch 12/15\n",
      "1719/1719 [==============================] - 55s 32ms/step - loss: 0.0227 - accuracy: 0.9962 - val_loss: 0.1628 - val_accuracy: 0.9876\n",
      "Epoch 13/15\n",
      "1719/1719 [==============================] - 55s 32ms/step - loss: 0.0283 - accuracy: 0.9954 - val_loss: 0.1723 - val_accuracy: 0.9864\n",
      "Epoch 14/15\n",
      "1719/1719 [==============================] - 58s 34ms/step - loss: 0.0273 - accuracy: 0.9959 - val_loss: 0.1803 - val_accuracy: 0.9882\n",
      "Epoch 15/15\n",
      "1719/1719 [==============================] - 56s 33ms/step - loss: 0.0213 - accuracy: 0.9964 - val_loss: 0.2085 - val_accuracy: 0.9866\n"
     ]
    },
    {
     "data": {
      "text/plain": [
       "<keras.src.callbacks.History at 0x29f357070>"
      ]
     },
     "execution_count": 13,
     "metadata": {},
     "output_type": "execute_result"
    }
   ],
   "source": [
    "model = keras.models.Sequential([\n",
    "    keras.layers.Conv2D(32, kernel_size=3, padding=\"same\", activation=\"selu\", kernel_initializer=\"he_normal\"),\n",
    "    keras.layers.Conv2D(64, kernel_size=3, padding=\"same\", activation=\"selu\", kernel_initializer=\"he_normal\"),\n",
    "    tf.keras.layers.MaxPool2D(),\n",
    "    keras.layers.Flatten(), # Add this layer to flatten the output before the dense layers\n",
    "    #tf.keras.layers.Dropout(0.5),\n",
    "    keras.layers.Dense(128, activation=\"selu\", kernel_initializer=\"he_normal\"),\n",
    "    keras.layers.Dense(10, activation=\"softmax\")\n",
    "])\n",
    "\n",
    "model.compile(loss=\"sparse_categorical_crossentropy\", optimizer=\"nadam\",\n",
    "              metrics=[\"accuracy\"])\n",
    "model.fit(X_train, y_train, epochs=15, validation_data=(X_valid, y_valid))\n"
   ]
  },
  {
   "cell_type": "code",
   "execution_count": null,
   "metadata": {},
   "outputs": [],
   "source": []
  }
 ],
 "metadata": {
  "kernelspec": {
   "display_name": "Python 3",
   "language": "python",
   "name": "python3"
  },
  "language_info": {
   "codemirror_mode": {
    "name": "ipython",
    "version": 3
   },
   "file_extension": ".py",
   "mimetype": "text/x-python",
   "name": "python",
   "nbconvert_exporter": "python",
   "pygments_lexer": "ipython3",
   "version": "3.9.6"
  },
  "orig_nbformat": 4
 },
 "nbformat": 4,
 "nbformat_minor": 2
}
